{
 "cells": [
  {
   "cell_type": "markdown",
   "id": "25921c8e-8ee2-434f-9cfa-78f6fc3534c6",
   "metadata": {
    "tags": []
   },
   "source": [
    "# Decision trees"
   ]
  },
  {
   "cell_type": "code",
   "execution_count": null,
   "id": "089cb463-c1d7-453a-b6e2-4e63be83621d",
   "metadata": {},
   "outputs": [],
   "source": [
    "import pandas as pd\n",
    "import numpy as np\n",
    "pd.options.mode.chained_assignment = None"
   ]
  },
  {
   "cell_type": "code",
   "execution_count": 2,
   "id": "30156cee-5b79-4a73-9530-05b7d03aa408",
   "metadata": {
    "tags": []
   },
   "outputs": [
    {
     "data": {
      "text/html": [
       "<div>\n",
       "<style scoped>\n",
       "    .dataframe tbody tr th:only-of-type {\n",
       "        vertical-align: middle;\n",
       "    }\n",
       "\n",
       "    .dataframe tbody tr th {\n",
       "        vertical-align: top;\n",
       "    }\n",
       "\n",
       "    .dataframe thead th {\n",
       "        text-align: right;\n",
       "    }\n",
       "</style>\n",
       "<table border=\"1\" class=\"dataframe\">\n",
       "  <thead>\n",
       "    <tr style=\"text-align: right;\">\n",
       "      <th></th>\n",
       "      <th>PassengerId</th>\n",
       "      <th>Pclass</th>\n",
       "      <th>Name</th>\n",
       "      <th>Sex</th>\n",
       "      <th>Age</th>\n",
       "      <th>SibSp</th>\n",
       "      <th>Parch</th>\n",
       "      <th>Survived</th>\n",
       "    </tr>\n",
       "  </thead>\n",
       "  <tbody>\n",
       "    <tr>\n",
       "      <th>0</th>\n",
       "      <td>1</td>\n",
       "      <td>3</td>\n",
       "      <td>Braund, Mr. Owen Harris</td>\n",
       "      <td>male</td>\n",
       "      <td>22</td>\n",
       "      <td>1</td>\n",
       "      <td>0</td>\n",
       "      <td>0</td>\n",
       "    </tr>\n",
       "  </tbody>\n",
       "</table>\n",
       "</div>"
      ],
      "text/plain": [
       "   PassengerId  Pclass                     Name   Sex  Age  SibSp  Parch  \\\n",
       "0            1       3  Braund, Mr. Owen Harris  male   22      1      0   \n",
       "\n",
       "   Survived  \n",
       "0         0  "
      ]
     },
     "execution_count": 2,
     "metadata": {},
     "output_type": "execute_result"
    }
   ],
   "source": [
    "df = pd.read_csv('titanic-homework.csv')\n",
    "df.head(1)"
   ]
  },
  {
   "cell_type": "code",
   "execution_count": 28,
   "id": "874e49b5-05ba-4134-950a-50ed91de6cf0",
   "metadata": {
    "tags": []
   },
   "outputs": [],
   "source": [
    "X = df[['Pclass', 'Sex', 'Age', 'SibSp', 'Parch', 'Survived']]"
   ]
  },
  {
   "cell_type": "markdown",
   "id": "3feab688-c22d-4da8-b25d-cc41c3a380b6",
   "metadata": {},
   "source": [
    "# Version for 4.0"
   ]
  },
  {
   "cell_type": "markdown",
   "id": "f1c3e2b0-11cd-4337-8b32-baec70fbfb85",
   "metadata": {},
   "source": [
    "### Categorical features"
   ]
  },
  {
   "cell_type": "code",
   "execution_count": 4,
   "id": "207e14ca-a75c-4529-b89f-79c9a7ed065c",
   "metadata": {
    "tags": []
   },
   "outputs": [],
   "source": [
    "bins = [0, 20, 40, 100]\n",
    "labels = ['young', 'medium', 'old']\n",
    "X['Age'] = pd.cut(X['Age'], bins=bins, labels=labels)\n",
    "\n",
    "for column in X.columns:\n",
    "    X[column] = X[column].astype('category')"
   ]
  },
  {
   "cell_type": "markdown",
   "id": "f0676a8a-e470-4596-ae82-87a37cca3a71",
   "metadata": {},
   "source": [
    "### Entropy\n",
    "$H(S) = - \\sum_{y \\in S}p(y)log_2p(y)$ <br> <br>\n",
    "$U=|S|$"
   ]
  },
  {
   "cell_type": "code",
   "execution_count": 26,
   "id": "619836ee-f5cb-4395-bd32-be03a5713730",
   "metadata": {
    "tags": []
   },
   "outputs": [],
   "source": [
    "def entropy(S):\n",
    "    U, H = len(X), 0\n",
    "    for Ui in X[S].value_counts():\n",
    "        p = Ui / U\n",
    "        if p > 0:\n",
    "            H += (-p * np.log2(p))\n",
    "    return H"
   ]
  },
  {
   "cell_type": "markdown",
   "id": "9a2a6e84-a0ae-4f11-be17-8ab6e84cc64f",
   "metadata": {},
   "source": [
    "### Conditional entropy\n",
    "\n",
    "$H(S|A) = - \\sum_{x \\in A} \\sum_{y \\in S} p(x,y) log_2 \\frac{p(x,y)}{p(x)}$"
   ]
  },
  {
   "cell_type": "code",
   "execution_count": 27,
   "id": "c1ef1786-eab7-4a57-ba93-cf21f8f8d9a9",
   "metadata": {},
   "outputs": [],
   "source": [
    "def conditional_entropy(S, A):\n",
    "    U, H = len(X), 0\n",
    "    for Ui in X[A].value_counts():\n",
    "        px = Ui / U\n",
    "        if px <= 0: continue\n",
    "        \n",
    "        for Uj in X[S, A].value_counts():\n",
    "            pxy = Uj / U\n",
    "            if pxy > 0:\n",
    "                H += (-pxy * np.log2(pxy / px))\n",
    "    return H"
   ]
  },
  {
   "cell_type": "markdown",
   "id": "0918f344-c8c3-43a3-b4e8-5be79f5f1bfa",
   "metadata": {},
   "source": [
    "### Information gain\n",
    "$IG(S,A) = H(S) - H(S|A)$"
   ]
  },
  {
   "cell_type": "code",
   "execution_count": 29,
   "id": "784fac44-886c-4c0a-abd7-b2be6a8551bd",
   "metadata": {
    "tags": []
   },
   "outputs": [],
   "source": [
    "def information_gain(S, A):\n",
    "    IG = entropy(S) - conditional_entropy(S, A)\n",
    "    return IG"
   ]
  },
  {
   "cell_type": "markdown",
   "id": "28b99fd2-4041-457b-bc77-d34cd25a4fd9",
   "metadata": {},
   "source": [
    "### Intrinsic information\n",
    "$II(S,A)=- \\sum_{x \\in A} \\sum_{y \\in S} p(x,y) log_2 p(x,y)$"
   ]
  },
  {
   "cell_type": "code",
   "execution_count": 30,
   "id": "d2ad12cd-35c1-4205-ac0f-bb3ffa5ded8e",
   "metadata": {
    "tags": []
   },
   "outputs": [],
   "source": [
    "def intrinsic_info(S, A):\n",
    "    info = 0\n",
    "    for Ui in X[A].value_counts():\n",
    "        pxy = Uj / U\n",
    "        if pxy > 0:\n",
    "            info += (-pxy * np.log2(pxy))\n",
    "    return info"
   ]
  },
  {
   "cell_type": "markdown",
   "id": "24b2dd37-231e-4035-bd99-10375fe1ea1f",
   "metadata": {},
   "source": [
    "### Gain ratio\n",
    "$IGR(S,A) = \\frac{IG(S,A)}{II(S,A)}$"
   ]
  },
  {
   "cell_type": "code",
   "execution_count": 31,
   "id": "133c3e9a-f6e1-4ff4-ac9e-e88463fd4fdf",
   "metadata": {
    "tags": []
   },
   "outputs": [],
   "source": [
    "def gain_ratio(S,A):\n",
    "    IGR = information_gain(S,A) / intrinsic_info(S,A)\n",
    "    return IGR"
   ]
  },
  {
   "cell_type": "markdown",
   "id": "c3013a03-72bf-46a8-b9c6-c77e372e9c62",
   "metadata": {},
   "source": [
    "# Version for 5.0"
   ]
  }
 ],
 "metadata": {
  "kernelspec": {
   "display_name": "Python [conda env:data-science] *",
   "language": "python",
   "name": "conda-env-data-science-py"
  },
  "language_info": {
   "codemirror_mode": {
    "name": "ipython",
    "version": 3
   },
   "file_extension": ".py",
   "mimetype": "text/x-python",
   "name": "python",
   "nbconvert_exporter": "python",
   "pygments_lexer": "ipython3",
   "version": "3.9.17"
  }
 },
 "nbformat": 4,
 "nbformat_minor": 5
}
