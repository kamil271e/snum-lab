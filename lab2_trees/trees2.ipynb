{
 "cells": [
  {
   "cell_type": "markdown",
   "metadata": {},
   "source": [
    "Chosen attributes:\n",
    "- absences - number of school absences (numeric: from 0 to 93)\n",
    "- guardian - student's guardian (nominal: 'mother', 'father' or 'other')\n",
    "- sex - student's sex (binary: 'F' - female or 'M' - male)\n",
    "- address - student's home address type (binary: 'U' - urban or 'R' - rural)\n",
    "- studytime - weekly study time (numeric: 1 - <2 hours, 2 - 2 to 5 hours, 3 - 5 to 10 hours, or 4 - >10 hours)\n",
    "- romantic - with a romantic relationship (binary: yes or no)\n",
    "- health - current health status (numeric: from 1 - very bad to 5 - very good)\n",
    "\n",
    "G3 - final grade (numeric: from 0 to 20, output target) \\\n",
    "\\< 11.5 do not pass the subject \\\n",
    "\\> 11.5 student pass the subject"
   ]
  },
  {
   "cell_type": "markdown",
   "metadata": {},
   "source": [
    "### 4. J48 on selected list of attributes\n",
    "\n",
    "#### Default parameters: binarySplits = false; confidenceFactor = 0.25; minNumObj = 2\n",
    "\n",
    "Number of Leaves  : \t16\n",
    "Size of the tree : \t30\n",
    "\n",
    "=== Summary ===\n",
    "\n",
    "Correctly Classified Instances         150               75      % \n",
    "Incorrectly Classified Instances        50               25      %\n",
    "Kappa statistic                          0.4756\n",
    "Mean absolute error                      0.3517\n",
    "Root mean squared error                  0.4194\n",
    "Relative absolute error                 71.9458 %\n",
    "Root relative squared error             84.8304 %\n",
    "Total Number of Instances              200     \n",
    "\n",
    "Confusion Matrix\n",
    "\n",
    "  a  b   <-- classified as\n",
    " 98 17 |  a = '(-inf-11.5]'\n",
    " 33 52 |  b = '(11.5-inf)'"
   ]
  }
 ],
 "metadata": {
  "language_info": {
   "name": "python"
  }
 },
 "nbformat": 4,
 "nbformat_minor": 2
}
